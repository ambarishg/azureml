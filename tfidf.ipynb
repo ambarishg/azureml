{
 "cells": [
  {
   "cell_type": "code",
   "execution_count": 3,
   "id": "65b13e4a",
   "metadata": {},
   "outputs": [],
   "source": [
    "from sklearn.feature_extraction.text import TfidfVectorizer,CountVectorizer\n",
    "import numpy as np"
   ]
  },
  {
   "cell_type": "code",
   "execution_count": 4,
   "id": "6a34edab",
   "metadata": {},
   "outputs": [],
   "source": [
    "corpus = [\n",
    "...     'This is the first document.',\n",
    "...     'This document is the second document.',\n",
    "...     'And this is the third one.',\n",
    "...     'Is this the first document?',\n",
    "... ]"
   ]
  },
  {
   "cell_type": "markdown",
   "id": "ccbb468e",
   "metadata": {},
   "source": [
    "> TF(t) = (Number of times term t appears in a document) / (Total number of terms in the document)            \n",
    "\n",
    "> IDF(t) = log_e(Total number of documents / Number of documents with term t in it).             \n",
    "\n",
    "> Value = TF * IDF"
   ]
  },
  {
   "cell_type": "code",
   "execution_count": 5,
   "id": "1c29e839",
   "metadata": {},
   "outputs": [],
   "source": [
    "vectorizer = TfidfVectorizer()"
   ]
  },
  {
   "cell_type": "code",
   "execution_count": 6,
   "id": "a1591775",
   "metadata": {},
   "outputs": [],
   "source": [
    "X = vectorizer.fit_transform(corpus)"
   ]
  },
  {
   "cell_type": "code",
   "execution_count": 7,
   "id": "d11d20a5",
   "metadata": {},
   "outputs": [
    {
     "data": {
      "text/plain": [
       "(4, 9)"
      ]
     },
     "execution_count": 7,
     "metadata": {},
     "output_type": "execute_result"
    }
   ],
   "source": [
    "X.shape"
   ]
  },
  {
   "cell_type": "code",
   "execution_count": 8,
   "id": "e39a7de3",
   "metadata": {},
   "outputs": [
    {
     "data": {
      "text/plain": [
       "<4x9 sparse matrix of type '<class 'numpy.float64'>'\n",
       "\twith 21 stored elements in Compressed Sparse Row format>"
      ]
     },
     "execution_count": 8,
     "metadata": {},
     "output_type": "execute_result"
    }
   ],
   "source": [
    "X"
   ]
  },
  {
   "cell_type": "code",
   "execution_count": 9,
   "id": "40783643",
   "metadata": {},
   "outputs": [
    {
     "name": "stdout",
     "output_type": "stream",
     "text": [
      "['and', 'document', 'first', 'is', 'one', 'second', 'the', 'third', 'this']\n"
     ]
    }
   ],
   "source": [
    "print(vectorizer.get_feature_names())"
   ]
  },
  {
   "cell_type": "code",
   "execution_count": 10,
   "id": "f30f8486",
   "metadata": {},
   "outputs": [
    {
     "data": {
      "text/plain": [
       "matrix([[0.        , 0.46979139, 0.58028582, 0.38408524, 0.        ,\n",
       "         0.        , 0.38408524, 0.        , 0.38408524]])"
      ]
     },
     "execution_count": 10,
     "metadata": {},
     "output_type": "execute_result"
    }
   ],
   "source": [
    "X.todense()[0]"
   ]
  },
  {
   "cell_type": "code",
   "execution_count": 11,
   "id": "eed83846",
   "metadata": {},
   "outputs": [
    {
     "data": {
      "text/plain": [
       "(1, 9)"
      ]
     },
     "execution_count": 11,
     "metadata": {},
     "output_type": "execute_result"
    }
   ],
   "source": [
    "X.todense()[0].shape"
   ]
  },
  {
   "cell_type": "code",
   "execution_count": 9,
   "id": "7f67b997",
   "metadata": {},
   "outputs": [
    {
     "data": {
      "text/plain": [
       "matrix([[0.        , 0.46979139, 0.58028582, 0.38408524, 0.        ,\n",
       "         0.        , 0.38408524, 0.        , 0.38408524],\n",
       "        [0.        , 0.6876236 , 0.        , 0.28108867, 0.        ,\n",
       "         0.53864762, 0.28108867, 0.        , 0.28108867],\n",
       "        [0.51184851, 0.        , 0.        , 0.26710379, 0.51184851,\n",
       "         0.        , 0.26710379, 0.51184851, 0.26710379],\n",
       "        [0.        , 0.46979139, 0.58028582, 0.38408524, 0.        ,\n",
       "         0.        , 0.38408524, 0.        , 0.38408524]])"
      ]
     },
     "execution_count": 9,
     "metadata": {},
     "output_type": "execute_result"
    }
   ],
   "source": [
    "X.todense()"
   ]
  },
  {
   "cell_type": "markdown",
   "id": "ca287ac2",
   "metadata": {},
   "source": [
    "# first sentence"
   ]
  },
  {
   "cell_type": "markdown",
   "id": "ca05e755",
   "metadata": {},
   "source": [
    "> TF(t) = (Number of times term t appears in a document) / (Total number of terms in the document)            \n",
    "\n",
    "> IDF(t) = log_e(**1** + Total number of documents / **1** + Number of documents with term t in it) + **1**             \n",
    "\n",
    "> Value = TF * IDF"
   ]
  },
  {
   "cell_type": "code",
   "execution_count": 10,
   "id": "20efc3cd",
   "metadata": {},
   "outputs": [
    {
     "data": {
      "text/plain": [
       "0.2"
      ]
     },
     "execution_count": 10,
     "metadata": {},
     "output_type": "execute_result"
    }
   ],
   "source": [
    "#TF(t) = (Number of times term t appears in a document) / (Total number of terms in the document)\n",
    "\n",
    "\n",
    "# Number of times term t appears in a document) = 1/ Total number of terms in the document) = 5\n",
    "\n",
    "1/5"
   ]
  },
  {
   "cell_type": "code",
   "execution_count": 11,
   "id": "c79701a0",
   "metadata": {},
   "outputs": [],
   "source": [
    "#IDF(t) = log_e( 1 + Total number of documents / 1 + Number of documents with term t in it) + 1"
   ]
  },
  {
   "cell_type": "code",
   "execution_count": 12,
   "id": "3489edeb",
   "metadata": {},
   "outputs": [
    {
     "name": "stdout",
     "output_type": "stream",
     "text": [
      "{'and': 1.916290731874155, 'document': 1.2231435513142097, 'first': 1.5108256237659907, 'is': 1.0, 'one': 1.916290731874155, 'second': 1.916290731874155, 'the': 1.0, 'third': 1.916290731874155, 'this': 1.0}\n"
     ]
    }
   ],
   "source": [
    "idf = vectorizer.idf_\n",
    "print(dict(zip(vectorizer.get_feature_names(), idf)))"
   ]
  },
  {
   "cell_type": "code",
   "execution_count": 13,
   "id": "0c23574e",
   "metadata": {},
   "outputs": [],
   "source": [
    "import math"
   ]
  },
  {
   "cell_type": "code",
   "execution_count": 14,
   "id": "23507f7a",
   "metadata": {},
   "outputs": [
    {
     "data": {
      "text/plain": [
       "1.5108256237659907"
      ]
     },
     "execution_count": 14,
     "metadata": {},
     "output_type": "execute_result"
    }
   ],
   "source": [
    "math.log( (1+ 4)/(1+2) )  + 1"
   ]
  },
  {
   "cell_type": "code",
   "execution_count": 15,
   "id": "a7add206",
   "metadata": {},
   "outputs": [],
   "source": [
    "corpus = [\n",
    "...     'This is the first document.',\n",
    "...     'This document is the second document.',\n",
    "...     'And this is the third one.',\n",
    "...     'Is this the first document?',\n",
    "... ]"
   ]
  },
  {
   "cell_type": "code",
   "execution_count": 16,
   "id": "8b469739",
   "metadata": {},
   "outputs": [],
   "source": [
    "first = (1/5) * ( math.log( (1+ 4)/(1+2) )  + 1 )"
   ]
  },
  {
   "cell_type": "code",
   "execution_count": 17,
   "id": "f6cd17e2",
   "metadata": {},
   "outputs": [],
   "source": [
    "document = (1/5) * ( math.log( (1+ 4)/(1+3) )  + 1 )"
   ]
  },
  {
   "cell_type": "code",
   "execution_count": 18,
   "id": "3df68012",
   "metadata": {},
   "outputs": [],
   "source": [
    "is_ = (1/5) * ( math.log( (1+ 4)/(1+4) )  + 1 )"
   ]
  },
  {
   "cell_type": "code",
   "execution_count": 19,
   "id": "bfd624b6",
   "metadata": {},
   "outputs": [],
   "source": [
    "the_ =  (1/5) * ( math.log( (1+ 4)/(1+4) )  + 1 )"
   ]
  },
  {
   "cell_type": "code",
   "execution_count": 20,
   "id": "c09fc725",
   "metadata": {},
   "outputs": [],
   "source": [
    "this_ =  (1/5) * ( math.log( (1+ 4)/(1+4) )  + 1 )"
   ]
  },
  {
   "cell_type": "code",
   "execution_count": 21,
   "id": "1b86de9a",
   "metadata": {},
   "outputs": [],
   "source": [
    "vec =[0, document, first, is_, 0, 0, the_, 0, this_]"
   ]
  },
  {
   "cell_type": "code",
   "execution_count": 22,
   "id": "6c72ce03",
   "metadata": {},
   "outputs": [
    {
     "data": {
      "text/plain": [
       "[0, 0.24462871026284194, 0.3021651247531982, 0.2, 0, 0, 0.2, 0, 0.2]"
      ]
     },
     "execution_count": 22,
     "metadata": {},
     "output_type": "execute_result"
    }
   ],
   "source": [
    "vec"
   ]
  },
  {
   "cell_type": "code",
   "execution_count": 23,
   "id": "24865edd",
   "metadata": {},
   "outputs": [
    {
     "data": {
      "text/plain": [
       "array([0.        , 0.46979139, 0.58028582, 0.38408524, 0.        ,\n",
       "       0.        , 0.38408524, 0.        , 0.38408524])"
      ]
     },
     "execution_count": 23,
     "metadata": {},
     "output_type": "execute_result"
    }
   ],
   "source": [
    "vec /  np.linalg.norm(vec)"
   ]
  },
  {
   "cell_type": "code",
   "execution_count": 24,
   "id": "9aedf2f6",
   "metadata": {},
   "outputs": [
    {
     "data": {
      "text/plain": [
       "matrix([[0.        , 0.46979139, 0.58028582, 0.38408524, 0.        ,\n",
       "         0.        , 0.38408524, 0.        , 0.38408524]])"
      ]
     },
     "execution_count": 24,
     "metadata": {},
     "output_type": "execute_result"
    }
   ],
   "source": [
    "X.todense()[0]"
   ]
  },
  {
   "cell_type": "code",
   "execution_count": 26,
   "id": "0d4f5cd3",
   "metadata": {},
   "outputs": [],
   "source": [
    "l2 = vec /  np.linalg.norm(vec)"
   ]
  },
  {
   "cell_type": "code",
   "execution_count": 27,
   "id": "7f90efdd",
   "metadata": {},
   "outputs": [
    {
     "data": {
      "text/plain": [
       "1.0"
      ]
     },
     "execution_count": 27,
     "metadata": {},
     "output_type": "execute_result"
    }
   ],
   "source": [
    "np.linalg.norm(l2)"
   ]
  },
  {
   "cell_type": "code",
   "execution_count": null,
   "id": "dd4aa529",
   "metadata": {},
   "outputs": [],
   "source": []
  }
 ],
 "metadata": {
  "kernelspec": {
   "display_name": "Python 3",
   "language": "python",
   "name": "python3"
  },
  "language_info": {
   "codemirror_mode": {
    "name": "ipython",
    "version": 3
   },
   "file_extension": ".py",
   "mimetype": "text/x-python",
   "name": "python",
   "nbconvert_exporter": "python",
   "pygments_lexer": "ipython3",
   "version": "3.8.8"
  }
 },
 "nbformat": 4,
 "nbformat_minor": 5
}
