{
 "cells": [
  {
   "cell_type": "markdown",
   "id": "f9ba637c",
   "metadata": {},
   "source": [
    "<div class=\"alert alert-block alert-info\">  \n",
    "<h1><strong>Word Embeddings</strong></h1>\n",
    "</div>"
   ]
  },
  {
   "cell_type": "markdown",
   "id": "32826bb4",
   "metadata": {},
   "source": [
    "<div class=\"alert alert-block alert-info\">  \n",
    "<h2><strong>Imports</strong></h2>\n",
    "</div>"
   ]
  },
  {
   "cell_type": "code",
   "execution_count": 40,
   "id": "be5f1951",
   "metadata": {},
   "outputs": [],
   "source": [
    "import numpy as np\n",
    "import spacy\n",
    "from sklearn.metrics.pairwise import cosine_similarity"
   ]
  },
  {
   "cell_type": "code",
   "execution_count": 41,
   "id": "played-forge",
   "metadata": {
    "execution": {
     "iopub.execute_input": "2021-07-07T04:18:51.945229Z",
     "iopub.status.busy": "2021-07-07T04:18:51.944596Z",
     "iopub.status.idle": "2021-07-07T04:19:01.360147Z",
     "shell.execute_reply": "2021-07-07T04:19:01.359565Z",
     "shell.execute_reply.started": "2021-07-07T04:12:45.946724Z"
    },
    "papermill": {
     "duration": 9.435753,
     "end_time": "2021-07-07T04:19:01.360285",
     "exception": false,
     "start_time": "2021-07-07T04:18:51.924532",
     "status": "completed"
    },
    "tags": []
   },
   "outputs": [],
   "source": [
    "# Need to load the large model to get the vectors\n",
    "nlp = spacy.load('en_core_web_lg')"
   ]
  },
  {
   "cell_type": "code",
   "execution_count": 42,
   "id": "verbal-skirt",
   "metadata": {
    "execution": {
     "iopub.execute_input": "2021-07-07T04:19:01.401649Z",
     "iopub.status.busy": "2021-07-07T04:19:01.400980Z",
     "iopub.status.idle": "2021-07-07T04:19:01.404529Z",
     "shell.execute_reply": "2021-07-07T04:19:01.404984Z",
     "shell.execute_reply.started": "2021-07-07T04:14:47.557284Z"
    },
    "papermill": {
     "duration": 0.028292,
     "end_time": "2021-07-07T04:19:01.405150",
     "exception": false,
     "start_time": "2021-07-07T04:19:01.376858",
     "status": "completed"
    },
    "tags": []
   },
   "outputs": [
    {
     "data": {
      "text/plain": [
       "(684.83, 300)"
      ]
     },
     "execution_count": 42,
     "metadata": {},
     "output_type": "execute_result"
    }
   ],
   "source": [
    "nlp.vocab.vectors.shape[0] / 1e3,nlp.vocab.vectors.shape[1]"
   ]
  },
  {
   "cell_type": "markdown",
   "id": "dcacef68",
   "metadata": {},
   "source": [
    "<div class=\"alert alert-block alert-info\">  \n",
    "<h1><strong>Queen</strong></h1>\n",
    "    <p>Comparison between Queen , King , Mother and Princess\n",
    "    </p>\n",
    "</div>"
   ]
  },
  {
   "cell_type": "code",
   "execution_count": 43,
   "id": "contemporary-infection",
   "metadata": {
    "execution": {
     "iopub.execute_input": "2021-07-07T04:19:01.479752Z",
     "iopub.status.busy": "2021-07-07T04:19:01.478969Z",
     "iopub.status.idle": "2021-07-07T04:19:01.508401Z",
     "shell.execute_reply": "2021-07-07T04:19:01.508929Z",
     "shell.execute_reply.started": "2021-07-07T04:17:21.345782Z"
    },
    "papermill": {
     "duration": 0.05423,
     "end_time": "2021-07-07T04:19:01.509117",
     "exception": false,
     "start_time": "2021-07-07T04:19:01.454887",
     "status": "completed"
    },
    "tags": []
   },
   "outputs": [
    {
     "data": {
      "text/plain": [
       "array([ 0.4095 , -0.22693,  0.25362, -0.36055, -0.37095, -0.35181,\n",
       "        0.50669, -0.77897, -0.32571,  1.4895 ], dtype=float32)"
      ]
     },
     "execution_count": 43,
     "metadata": {},
     "output_type": "execute_result"
    }
   ],
   "source": [
    "nlp(\"queen\").vector[:10]"
   ]
  },
  {
   "cell_type": "code",
   "execution_count": 44,
   "id": "injured-worth",
   "metadata": {
    "execution": {
     "iopub.execute_input": "2021-07-07T04:19:01.549734Z",
     "iopub.status.busy": "2021-07-07T04:19:01.549042Z",
     "iopub.status.idle": "2021-07-07T04:19:01.563334Z",
     "shell.execute_reply": "2021-07-07T04:19:01.562807Z",
     "shell.execute_reply.started": "2021-07-07T04:17:22.500597Z"
    },
    "papermill": {
     "duration": 0.036679,
     "end_time": "2021-07-07T04:19:01.563482",
     "exception": false,
     "start_time": "2021-07-07T04:19:01.526803",
     "status": "completed"
    },
    "tags": []
   },
   "outputs": [
    {
     "data": {
      "text/plain": [
       "(300,)"
      ]
     },
     "execution_count": 44,
     "metadata": {},
     "output_type": "execute_result"
    }
   ],
   "source": [
    "nlp(\"queen\").vector.shape"
   ]
  },
  {
   "cell_type": "code",
   "execution_count": 45,
   "id": "egyptian-relevance",
   "metadata": {
    "execution": {
     "iopub.execute_input": "2021-07-07T04:19:01.605279Z",
     "iopub.status.busy": "2021-07-07T04:19:01.604102Z",
     "iopub.status.idle": "2021-07-07T04:19:01.624546Z",
     "shell.execute_reply": "2021-07-07T04:19:01.623947Z",
     "shell.execute_reply.started": "2021-07-07T04:17:23.339342Z"
    },
    "papermill": {
     "duration": 0.04378,
     "end_time": "2021-07-07T04:19:01.624697",
     "exception": false,
     "start_time": "2021-07-07T04:19:01.580917",
     "status": "completed"
    },
    "tags": []
   },
   "outputs": [
    {
     "data": {
      "text/plain": [
       "array([[0.725261]], dtype=float32)"
      ]
     },
     "execution_count": 45,
     "metadata": {},
     "output_type": "execute_result"
    }
   ],
   "source": [
    "cosine_similarity([nlp(\"queen\").vector],[nlp(\"king\").vector])"
   ]
  },
  {
   "cell_type": "code",
   "execution_count": 46,
   "id": "intellectual-error",
   "metadata": {
    "execution": {
     "iopub.execute_input": "2021-07-07T04:19:01.666893Z",
     "iopub.status.busy": "2021-07-07T04:19:01.666193Z",
     "iopub.status.idle": "2021-07-07T04:19:01.686101Z",
     "shell.execute_reply": "2021-07-07T04:19:01.685576Z",
     "shell.execute_reply.started": "2021-07-07T04:17:25.264719Z"
    },
    "papermill": {
     "duration": 0.0435,
     "end_time": "2021-07-07T04:19:01.686255",
     "exception": false,
     "start_time": "2021-07-07T04:19:01.642755",
     "status": "completed"
    },
    "tags": []
   },
   "outputs": [
    {
     "data": {
      "text/plain": [
       "array([[0.44720313]], dtype=float32)"
      ]
     },
     "execution_count": 46,
     "metadata": {},
     "output_type": "execute_result"
    }
   ],
   "source": [
    "cosine_similarity([nlp(\"queen\").vector],[nlp(\"mother\").vector])"
   ]
  },
  {
   "cell_type": "code",
   "execution_count": 47,
   "id": "adjustable-privacy",
   "metadata": {
    "execution": {
     "iopub.execute_input": "2021-07-07T04:19:01.731732Z",
     "iopub.status.busy": "2021-07-07T04:19:01.731017Z",
     "iopub.status.idle": "2021-07-07T04:19:01.751758Z",
     "shell.execute_reply": "2021-07-07T04:19:01.751137Z",
     "shell.execute_reply.started": "2021-07-07T04:17:26.486657Z"
    },
    "papermill": {
     "duration": 0.044476,
     "end_time": "2021-07-07T04:19:01.751895",
     "exception": false,
     "start_time": "2021-07-07T04:19:01.707419",
     "status": "completed"
    },
    "tags": []
   },
   "outputs": [
    {
     "data": {
      "text/plain": [
       "array([[0.6578181]], dtype=float32)"
      ]
     },
     "execution_count": 47,
     "metadata": {},
     "output_type": "execute_result"
    }
   ],
   "source": [
    "cosine_similarity([nlp(\"queen\").vector],[nlp(\"princess\").vector])"
   ]
  },
  {
   "cell_type": "markdown",
   "id": "interpreted-facing",
   "metadata": {
    "papermill": {
     "duration": 0.017984,
     "end_time": "2021-07-07T04:19:01.788159",
     "exception": false,
     "start_time": "2021-07-07T04:19:01.770175",
     "status": "completed"
    },
    "tags": []
   },
   "source": [
    "<div class=\"alert alert-block alert-info\">  \n",
    "<h1><strong>Software consultant</strong></h1>\n",
    "    <p>Comparison between Software consultant ,data guy and plumber\n",
    "    </p>\n",
    "</div>"
   ]
  },
  {
   "cell_type": "code",
   "execution_count": 48,
   "id": "illegal-symbol",
   "metadata": {
    "execution": {
     "iopub.execute_input": "2021-07-07T04:19:01.830783Z",
     "iopub.status.busy": "2021-07-07T04:19:01.830134Z",
     "iopub.status.idle": "2021-07-07T04:19:01.859523Z",
     "shell.execute_reply": "2021-07-07T04:19:01.858850Z",
     "shell.execute_reply.started": "2021-07-07T04:17:41.202413Z"
    },
    "papermill": {
     "duration": 0.053385,
     "end_time": "2021-07-07T04:19:01.859663",
     "exception": false,
     "start_time": "2021-07-07T04:19:01.806278",
     "status": "completed"
    },
    "tags": []
   },
   "outputs": [],
   "source": [
    "x1 = nlp(\"I am a software consultant\").vector\n",
    "x2 = nlp(\"Hey ,me  data guy\").vector\n",
    "x3 = nlp(\"Hey ,me  plumber\").vector"
   ]
  },
  {
   "cell_type": "code",
   "execution_count": 49,
   "id": "large-salmon",
   "metadata": {
    "execution": {
     "iopub.execute_input": "2021-07-07T04:19:01.901819Z",
     "iopub.status.busy": "2021-07-07T04:19:01.901003Z",
     "iopub.status.idle": "2021-07-07T04:19:01.904892Z",
     "shell.execute_reply": "2021-07-07T04:19:01.904361Z",
     "shell.execute_reply.started": "2021-07-07T04:17:42.247903Z"
    },
    "papermill": {
     "duration": 0.026976,
     "end_time": "2021-07-07T04:19:01.905027",
     "exception": false,
     "start_time": "2021-07-07T04:19:01.878051",
     "status": "completed"
    },
    "tags": []
   },
   "outputs": [
    {
     "data": {
      "text/plain": [
       "((300,), (300,), (300,))"
      ]
     },
     "execution_count": 49,
     "metadata": {},
     "output_type": "execute_result"
    }
   ],
   "source": [
    "x1.shape , x2.shape , x3.shape"
   ]
  },
  {
   "cell_type": "code",
   "execution_count": 50,
   "id": "arbitrary-local",
   "metadata": {
    "execution": {
     "iopub.execute_input": "2021-07-07T04:19:01.947930Z",
     "iopub.status.busy": "2021-07-07T04:19:01.947275Z",
     "iopub.status.idle": "2021-07-07T04:19:01.951402Z",
     "shell.execute_reply": "2021-07-07T04:19:01.950890Z",
     "shell.execute_reply.started": "2021-07-07T04:17:43.000135Z"
    },
    "papermill": {
     "duration": 0.028055,
     "end_time": "2021-07-07T04:19:01.951606",
     "exception": false,
     "start_time": "2021-07-07T04:19:01.923551",
     "status": "completed"
    },
    "tags": []
   },
   "outputs": [
    {
     "data": {
      "text/plain": [
       "array([[0.7383951]], dtype=float32)"
      ]
     },
     "execution_count": 50,
     "metadata": {},
     "output_type": "execute_result"
    }
   ],
   "source": [
    "cosine_similarity([x1],[x2])"
   ]
  },
  {
   "cell_type": "code",
   "execution_count": 51,
   "id": "boring-matter",
   "metadata": {
    "execution": {
     "iopub.execute_input": "2021-07-07T04:19:01.996344Z",
     "iopub.status.busy": "2021-07-07T04:19:01.995675Z",
     "iopub.status.idle": "2021-07-07T04:19:01.998134Z",
     "shell.execute_reply": "2021-07-07T04:19:01.998723Z",
     "shell.execute_reply.started": "2021-07-07T04:17:44.634022Z"
    },
    "papermill": {
     "duration": 0.02774,
     "end_time": "2021-07-07T04:19:01.998907",
     "exception": false,
     "start_time": "2021-07-07T04:19:01.971167",
     "status": "completed"
    },
    "tags": []
   },
   "outputs": [
    {
     "data": {
      "text/plain": [
       "array([[0.64217263]], dtype=float32)"
      ]
     },
     "execution_count": 51,
     "metadata": {},
     "output_type": "execute_result"
    }
   ],
   "source": [
    "cosine_similarity([x1],[x3])"
   ]
  },
  {
   "cell_type": "markdown",
   "id": "premium-contact",
   "metadata": {
    "papermill": {
     "duration": 0.019061,
     "end_time": "2021-07-07T04:19:02.037397",
     "exception": false,
     "start_time": "2021-07-07T04:19:02.018336",
     "status": "completed"
    },
    "tags": []
   },
   "source": [
    "<div class=\"alert alert-block alert-info\">  \n",
    "<h1><strong>Pepsi</strong></h1>\n",
    "    <p>Comparison between Pepsi , Coke , Sprite, Chips , Potato Chips and Teacher\n",
    "    </p>\n",
    "</div>"
   ]
  },
  {
   "cell_type": "code",
   "execution_count": 52,
   "id": "under-sport",
   "metadata": {
    "execution": {
     "iopub.execute_input": "2021-07-07T04:19:02.079196Z",
     "iopub.status.busy": "2021-07-07T04:19:02.078507Z",
     "iopub.status.idle": "2021-07-07T04:19:02.100894Z",
     "shell.execute_reply": "2021-07-07T04:19:02.101346Z",
     "shell.execute_reply.started": "2021-07-05T10:49:02.288752Z"
    },
    "papermill": {
     "duration": 0.044827,
     "end_time": "2021-07-07T04:19:02.101542",
     "exception": false,
     "start_time": "2021-07-07T04:19:02.056715",
     "status": "completed"
    },
    "tags": []
   },
   "outputs": [
    {
     "data": {
      "text/plain": [
       "array([[0.6556941]], dtype=float32)"
      ]
     },
     "execution_count": 52,
     "metadata": {},
     "output_type": "execute_result"
    }
   ],
   "source": [
    "cosine_similarity([nlp(\"pepsi\").vector],[nlp(\"coke\").vector])"
   ]
  },
  {
   "cell_type": "code",
   "execution_count": 53,
   "id": "seventh-kernel",
   "metadata": {
    "execution": {
     "iopub.execute_input": "2021-07-07T04:19:02.143808Z",
     "iopub.status.busy": "2021-07-07T04:19:02.143196Z",
     "iopub.status.idle": "2021-07-07T04:19:02.165515Z",
     "shell.execute_reply": "2021-07-07T04:19:02.164882Z",
     "shell.execute_reply.started": "2021-07-05T10:49:15.460037Z"
    },
    "papermill": {
     "duration": 0.044633,
     "end_time": "2021-07-07T04:19:02.165659",
     "exception": false,
     "start_time": "2021-07-07T04:19:02.121026",
     "status": "completed"
    },
    "tags": []
   },
   "outputs": [
    {
     "data": {
      "text/plain": [
       "array([[0.39027715]], dtype=float32)"
      ]
     },
     "execution_count": 53,
     "metadata": {},
     "output_type": "execute_result"
    }
   ],
   "source": [
    "cosine_similarity([nlp(\"pepsi\").vector],[nlp(\"sprite\").vector])"
   ]
  },
  {
   "cell_type": "code",
   "execution_count": 54,
   "id": "african-channels",
   "metadata": {
    "execution": {
     "iopub.execute_input": "2021-07-07T04:19:02.211531Z",
     "iopub.status.busy": "2021-07-07T04:19:02.210368Z",
     "iopub.status.idle": "2021-07-07T04:19:02.231698Z",
     "shell.execute_reply": "2021-07-07T04:19:02.231104Z",
     "shell.execute_reply.started": "2021-07-05T10:49:25.429335Z"
    },
    "papermill": {
     "duration": 0.04634,
     "end_time": "2021-07-07T04:19:02.231838",
     "exception": false,
     "start_time": "2021-07-07T04:19:02.185498",
     "status": "completed"
    },
    "tags": []
   },
   "outputs": [
    {
     "data": {
      "text/plain": [
       "array([[0.24748442]], dtype=float32)"
      ]
     },
     "execution_count": 54,
     "metadata": {},
     "output_type": "execute_result"
    }
   ],
   "source": [
    "cosine_similarity([nlp(\"pepsi\").vector],[nlp(\"chips\").vector])"
   ]
  },
  {
   "cell_type": "code",
   "execution_count": 55,
   "id": "responsible-inside",
   "metadata": {
    "execution": {
     "iopub.execute_input": "2021-07-07T04:19:02.277551Z",
     "iopub.status.busy": "2021-07-07T04:19:02.276890Z",
     "iopub.status.idle": "2021-07-07T04:19:02.297922Z",
     "shell.execute_reply": "2021-07-07T04:19:02.297314Z",
     "shell.execute_reply.started": "2021-07-05T10:49:36.097218Z"
    },
    "papermill": {
     "duration": 0.046185,
     "end_time": "2021-07-07T04:19:02.298067",
     "exception": false,
     "start_time": "2021-07-07T04:19:02.251882",
     "status": "completed"
    },
    "tags": []
   },
   "outputs": [
    {
     "data": {
      "text/plain": [
       "array([[-0.00911483]], dtype=float32)"
      ]
     },
     "execution_count": 55,
     "metadata": {},
     "output_type": "execute_result"
    }
   ],
   "source": [
    "cosine_similarity([nlp(\"pepsi\").vector],[nlp(\"teacher\").vector])"
   ]
  },
  {
   "cell_type": "code",
   "execution_count": 56,
   "id": "digital-blogger",
   "metadata": {
    "execution": {
     "iopub.execute_input": "2021-07-07T04:19:02.344746Z",
     "iopub.status.busy": "2021-07-07T04:19:02.344078Z",
     "iopub.status.idle": "2021-07-07T04:19:02.365579Z",
     "shell.execute_reply": "2021-07-07T04:19:02.365000Z",
     "shell.execute_reply.started": "2021-07-05T10:50:06.923173Z"
    },
    "papermill": {
     "duration": 0.047036,
     "end_time": "2021-07-07T04:19:02.365726",
     "exception": false,
     "start_time": "2021-07-07T04:19:02.318690",
     "status": "completed"
    },
    "tags": []
   },
   "outputs": [
    {
     "data": {
      "text/plain": [
       "array([[0.29382914]], dtype=float32)"
      ]
     },
     "execution_count": 56,
     "metadata": {},
     "output_type": "execute_result"
    }
   ],
   "source": [
    "cosine_similarity([nlp(\"pepsi\").vector],[nlp(\"potato chips\").vector])"
   ]
  },
  {
   "cell_type": "code",
   "execution_count": null,
   "id": "dental-messaging",
   "metadata": {
    "papermill": {
     "duration": 0.020683,
     "end_time": "2021-07-07T04:19:02.407474",
     "exception": false,
     "start_time": "2021-07-07T04:19:02.386791",
     "status": "completed"
    },
    "tags": []
   },
   "outputs": [],
   "source": []
  },
  {
   "cell_type": "code",
   "execution_count": null,
   "id": "8ef34af1",
   "metadata": {},
   "outputs": [],
   "source": []
  }
 ],
 "metadata": {
  "kernelspec": {
   "display_name": "Python 3",
   "language": "python",
   "name": "python3"
  },
  "language_info": {
   "codemirror_mode": {
    "name": "ipython",
    "version": 3
   },
   "file_extension": ".py",
   "mimetype": "text/x-python",
   "name": "python",
   "nbconvert_exporter": "python",
   "pygments_lexer": "ipython3",
   "version": "3.8.8"
  },
  "papermill": {
   "default_parameters": {},
   "duration": 22.86108,
   "end_time": "2021-07-07T04:19:04.845390",
   "environment_variables": {},
   "exception": null,
   "input_path": "__notebook__.ipynb",
   "output_path": "__notebook__.ipynb",
   "parameters": {},
   "start_time": "2021-07-07T04:18:41.984310",
   "version": "2.3.3"
  }
 },
 "nbformat": 4,
 "nbformat_minor": 5
}
